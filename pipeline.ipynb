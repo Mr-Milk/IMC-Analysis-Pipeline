{
 "cells": [
  {
   "cell_type": "markdown",
   "metadata": {
    "collapsed": true,
    "pycharm": {
     "name": "#%% md\n"
    }
   },
   "source": [
    "The input files should be `.mcd`,\n",
    "\n",
    "First let's import some necessary scripts and setup the output folder"
   ]
  },
  {
   "cell_type": "code",
   "source": [
    "from pathlib import Path\n",
    "from imcpipe import mcd2analysis, \\\n",
    "                    panel_csv_checker, \\\n",
    "                    create_spatialtis_folder\n",
    "\n",
    "output_folder = Path(\"./IMC-Analysis\")"
   ],
   "metadata": {
    "collapsed": false,
    "pycharm": {
     "name": "#%%\n"
    }
   },
   "execution_count": null,
   "outputs": []
  },
  {
   "cell_type": "markdown",
   "source": [
    "You should have a csv file specify your metal, which channels are used in the analysis and segmentation.\n",
    "\n",
    "| target | metal | full | seg |\n",
    "| --- | --- | --- | --- |\n",
    "| Pan-Keratin | Nd148 | 1 | 0 |\n",
    "| SMA | Pr141 | 1 | 1 |\n",
    "| CD45 | Sm152 | 1 | 0 |\n",
    "| DNA | Ir191 | 1 | 0 |\n",
    "| DNA | Ir193 | 1 | 1 |\n",
    "\n",
    "The `analysis_stacks` has two parts:\n",
    "\n",
    "```analysis_stacks = (('seg','_seg'), ('full', '_full'))```\n",
    "\n",
    "(The column of segmentation channels, the suffix of segmentation images)\n",
    "\n",
    "(The column of analysis channels, the suffix of analysis images)"
   ],
   "metadata": {
    "collapsed": false,
    "pycharm": {
     "name": "#%% md\n"
    }
   }
  },
  {
   "cell_type": "code",
   "execution_count": null,
   "outputs": [],
   "source": [
    "mcdfiles = ['1.mcd', '2.mcd']\n",
    "\n",
    "analysis_stacks = (('seg','_seg'), ('full', '_full'))\n",
    "metal_column = \"metal\"\n",
    "panel_csv_file = panel_csv_checker(\"./meta.csv\", metal_column)"
   ],
   "metadata": {
    "collapsed": false,
    "pycharm": {
     "name": "#%%\n"
    }
   }
  },
  {
   "cell_type": "code",
   "execution_count": null,
   "outputs": [],
   "source": [
    "mcd2analysis(mcdfiles, output_folder, panel_csv_file, analysis_stacks, metal_column)"
   ],
   "metadata": {
    "collapsed": false,
    "pycharm": {
     "name": "#%%\n"
    }
   }
  },
  {
   "cell_type": "markdown",
   "source": [
    "Afterwards, following the bodermillerLab's instruction on segmentation to acquire mask images\n",
    "\n",
    "You only need to do 3 steps\n",
    "\n",
    "### Prepare ilastik\n",
    "\n",
    "Load pipeline file: `1-prepare_ilastik.cppipe`\n",
    "\n",
    "1. File list: choose all files in the `analysis` subfolder\n",
    "\n",
    "2. Default Output Folder: Choose the `ilastik` subfolder\n",
    "\n",
    "\n",
    "### Train a pixel classifier\n",
    "\n",
    "1. Make a new `pixel classification project`.\n",
    "\n",
    "2. Add the .h5 random crops: `Raw data` -> `Add Seperate Images` -> Select all .h5 images in the `ilastik` subfolder.\n",
    "\n",
    "3. Select suitable features (or just everything >= 1 pixels)\n",
    "\n",
    "4. Label\n",
    "    1. Nuclei\n",
    "    2. Cytoplasma/membrane\n",
    "    3. Background\n",
    "\n",
    "5. Export prob\n",
    "    - Export Settings -> Source: Probabilities -> Choose Export Image Settings:\n",
    "        - Convert to datatype: Unsigned Integer 16 bit\n",
    "        - Renormalize: check\n",
    "        - Format: Tiff\n",
    "        - File: leave default\n",
    "    - Export all\n",
    "\n",
    "6. Batch processing\n",
    "    - Batch processing: -> Select raw data files -> select all `_s2.h5` files in the `tiff` folder. (sort by filetype, select all `h5` files).\n",
    "\n",
    "### Segment ilastik\n",
    "\n",
    "1. File list: choose all files in the `analysis` subfolder\n",
    "\n",
    "2. Default Output Folder: Choose the `ilastik` subfolder\n",
    "\n",
    "And then we could transform the images into anndata using spatialtis"
   ],
   "metadata": {
    "collapsed": false,
    "pycharm": {
     "name": "#%% md\n"
    }
   }
  },
  {
   "cell_type": "code",
   "execution_count": null,
   "outputs": [],
   "source": [
    "create_spatialtis_folder(output_folder)"
   ],
   "metadata": {
    "collapsed": false,
    "pycharm": {
     "name": "#%%\n"
    }
   }
  },
  {
   "cell_type": "code",
   "execution_count": null,
   "outputs": [],
   "source": [
    "import numpy as np\n",
    "import pandas as pd\n",
    "import spatialtis as st\n",
    "import scanpy as sc\n",
    "import anndata as ad"
   ],
   "metadata": {
    "collapsed": false,
    "pycharm": {
     "name": "#%%\n"
    }
   }
  },
  {
   "cell_type": "code",
   "execution_count": null,
   "outputs": [],
   "source": [
    "var = pd.read_csv(panel_csv_file)[['Antibodies', 'metal']]\n",
    "\n",
    "reader = st.read_ROIs(entry=(output_folder / \"spatialtis\"),\n",
    "                      obs_names=['ROI'],\n",
    "                      var=var,\n",
    "                      mask_pattern=\"mask\",\n",
    "                      img_pattern=\"full\")\n",
    "\n",
    "data = reader.to_anndata(mp=True)\n",
    "data"
   ],
   "metadata": {
    "collapsed": false,
    "pycharm": {
     "name": "#%%\n"
    }
   }
  },
  {
   "cell_type": "markdown",
   "source": [
    "And then we use `scanpy` to annotate cell type"
   ],
   "metadata": {
    "collapsed": false
   }
  },
  {
   "cell_type": "code",
   "source": [
    "sc.pp.normalize_total(data, target_sum=100)\n",
    "sc.pp.log1p(data)\n",
    "sc.tl.pca(data, svd_solver='arpack')\n",
    "sc.pl.pca_variance_ratio(data, log=True)\n",
    "sc.pp.neighbors(data, n_neighbors=10, n_pcs=5)\n",
    "sc.tl.umap(data)\n",
    "sc.tl.leiden(data, resolution=0.1)\n",
    "\n",
    "sc.tl.rank_genes_groups(data, 'leiden', method='wilcoxon')\n",
    "sc.pl.rank_genes_groups(data, n_genes=4, sharey=False, gene_symbols=\"target\")"
   ],
   "metadata": {
    "collapsed": false,
    "pycharm": {
     "name": "#%%\n"
    }
   },
   "execution_count": null,
   "outputs": []
  },
  {
   "cell_type": "markdown",
   "source": [
    "Actually label the cells"
   ],
   "metadata": {
    "collapsed": false
   }
  },
  {
   "cell_type": "code",
   "execution_count": null,
   "outputs": [],
   "source": [
    "mapper = {\n",
    "    0: 'Stromal Cell',\n",
    "    1: 'Unknown',\n",
    "    2: 'Leukocytes',\n",
    "    3: 'Epithelial Cell',\n",
    "}\n",
    "\n",
    "cell_type = [mapper[int(i)] for i in data.obs.leiden]\n",
    "data.obs['cell_type'] = cell_type\n",
    "\n",
    "sc.pl.umap(data, color='cell_type', legend_loc='on data', title='', frameon=False)\n"
   ],
   "metadata": {
    "collapsed": false,
    "pycharm": {
     "name": "#%%\n"
    }
   }
  },
  {
   "cell_type": "markdown",
   "source": [
    "Remember to save the file at this moment"
   ],
   "metadata": {
    "collapsed": false
   }
  },
  {
   "cell_type": "code",
   "execution_count": null,
   "outputs": [],
   "source": [
    "data_file = Path(\"data.h5ad\")\n",
    "data.write(data_file)"
   ],
   "metadata": {
    "collapsed": false,
    "pycharm": {
     "name": "#%%\n"
    }
   }
  },
  {
   "cell_type": "markdown",
   "source": [
    "Now let's do some analysis"
   ],
   "metadata": {
    "collapsed": false
   }
  },
  {
   "cell_type": "code",
   "execution_count": null,
   "outputs": [],
   "source": [
    "import spatialtis.plotting as sp\n",
    "from spatialtis import CONFIG\n",
    "\n",
    "CONFIG.EXP_OBS = [\"ROI\"]\n",
    "CONFIG.CELL_TYPE_KEY = \"cell_type\"\n",
    "CONFIG.MARKER_KEY = \"Antibodies\"\n",
    "CONFIG.CENTROID_KEY = \"centroid\""
   ],
   "metadata": {
    "collapsed": false,
    "pycharm": {
     "name": "#%%\n"
    }
   }
  },
  {
   "cell_type": "markdown",
   "source": [
    "To run the neighborhood analysis"
   ],
   "metadata": {
    "collapsed": false,
    "pycharm": {
     "name": "#%% md\n"
    }
   }
  },
  {
   "cell_type": "code",
   "execution_count": null,
   "outputs": [],
   "source": [
    "st.find_neighbors(data, expand=8)\n",
    "st.neighborhood_analysis(data)\n",
    "sp.neighborhood_analysis(data, use=\"graph_static\")"
   ],
   "metadata": {
    "collapsed": false,
    "pycharm": {
     "name": "#%%\n"
    }
   }
  }
 ],
 "metadata": {
  "kernelspec": {
   "display_name": "Python 3",
   "language": "python",
   "name": "python3"
  },
  "language_info": {
   "codemirror_mode": {
    "name": "ipython",
    "version": 2
   },
   "file_extension": ".py",
   "mimetype": "text/x-python",
   "name": "python",
   "nbconvert_exporter": "python",
   "pygments_lexer": "ipython2",
   "version": "2.7.6"
  }
 },
 "nbformat": 4,
 "nbformat_minor": 0
}